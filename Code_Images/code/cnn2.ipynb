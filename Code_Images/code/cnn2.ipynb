{
 "cells": [
  {
   "cell_type": "code",
   "execution_count": 2,
   "metadata": {},
   "outputs": [],
   "source": [
    "import tensorflow as tf\n",
    "from tensorflow.keras.applications.vgg16 import VGG16\n",
    "from tensorflow.keras.preprocessing.image import load_img, img_to_array\n",
    "from tensorflow.keras.applications.vgg16 import preprocess_input, decode_predictions\n",
    "import numpy as np\n"
   ]
  },
  {
   "cell_type": "code",
   "execution_count": 3,
   "metadata": {},
   "outputs": [],
   "source": [
    "# Load the pretrained VGG16 model\n",
    "model = VGG16(weights='imagenet')\n"
   ]
  },
  {
   "cell_type": "code",
   "execution_count": 4,
   "metadata": {},
   "outputs": [
    {
     "ename": "FileNotFoundError",
     "evalue": "[Errno 2] No such file or directory: 'path/to/your/image.jpg'",
     "output_type": "error",
     "traceback": [
      "\u001b[1;31m---------------------------------------------------------------------------\u001b[0m",
      "\u001b[1;31mFileNotFoundError\u001b[0m                         Traceback (most recent call last)",
      "Cell \u001b[1;32mIn[4], line 3\u001b[0m\n\u001b[0;32m      1\u001b[0m \u001b[38;5;66;03m# Load an example image (you can replace this with your own image)\u001b[39;00m\n\u001b[0;32m      2\u001b[0m image_path \u001b[38;5;241m=\u001b[39m \u001b[38;5;124m'\u001b[39m\u001b[38;5;124mpath/to/your/image.jpg\u001b[39m\u001b[38;5;124m'\u001b[39m\n\u001b[1;32m----> 3\u001b[0m image \u001b[38;5;241m=\u001b[39m \u001b[43mload_img\u001b[49m\u001b[43m(\u001b[49m\u001b[43mimage_path\u001b[49m\u001b[43m,\u001b[49m\u001b[43m \u001b[49m\u001b[43mtarget_size\u001b[49m\u001b[38;5;241;43m=\u001b[39;49m\u001b[43m(\u001b[49m\u001b[38;5;241;43m224\u001b[39;49m\u001b[43m,\u001b[49m\u001b[43m \u001b[49m\u001b[38;5;241;43m224\u001b[39;49m\u001b[43m)\u001b[49m\u001b[43m)\u001b[49m\n\u001b[0;32m      4\u001b[0m image_array \u001b[38;5;241m=\u001b[39m img_to_array(image)\n\u001b[0;32m      5\u001b[0m image_array \u001b[38;5;241m=\u001b[39m np\u001b[38;5;241m.\u001b[39mexpand_dims(image_array, axis\u001b[38;5;241m=\u001b[39m\u001b[38;5;241m0\u001b[39m)\n",
      "File \u001b[1;32mc:\\Users\\amani\\anaconda3\\envs\\tensorflow3environment\\lib\\site-packages\\keras\\src\\utils\\image_utils.py:422\u001b[0m, in \u001b[0;36mload_img\u001b[1;34m(path, grayscale, color_mode, target_size, interpolation, keep_aspect_ratio)\u001b[0m\n\u001b[0;32m    420\u001b[0m     \u001b[38;5;28;01mif\u001b[39;00m \u001b[38;5;28misinstance\u001b[39m(path, pathlib\u001b[38;5;241m.\u001b[39mPath):\n\u001b[0;32m    421\u001b[0m         path \u001b[38;5;241m=\u001b[39m \u001b[38;5;28mstr\u001b[39m(path\u001b[38;5;241m.\u001b[39mresolve())\n\u001b[1;32m--> 422\u001b[0m     \u001b[38;5;28;01mwith\u001b[39;00m \u001b[38;5;28;43mopen\u001b[39;49m\u001b[43m(\u001b[49m\u001b[43mpath\u001b[49m\u001b[43m,\u001b[49m\u001b[43m \u001b[49m\u001b[38;5;124;43m\"\u001b[39;49m\u001b[38;5;124;43mrb\u001b[39;49m\u001b[38;5;124;43m\"\u001b[39;49m\u001b[43m)\u001b[49m \u001b[38;5;28;01mas\u001b[39;00m f:\n\u001b[0;32m    423\u001b[0m         img \u001b[38;5;241m=\u001b[39m pil_image\u001b[38;5;241m.\u001b[39mopen(io\u001b[38;5;241m.\u001b[39mBytesIO(f\u001b[38;5;241m.\u001b[39mread()))\n\u001b[0;32m    424\u001b[0m \u001b[38;5;28;01melse\u001b[39;00m:\n",
      "\u001b[1;31mFileNotFoundError\u001b[0m: [Errno 2] No such file or directory: 'path/to/your/image.jpg'"
     ]
    }
   ],
   "source": [
    "# Load an example image (you can replace this with your own image)\n",
    "image_path = 'path/to/your/image.jpg'\n",
    "image = load_img(image_path, target_size=(224, 224))\n",
    "image_array = img_to_array(image)\n",
    "image_array = np.expand_dims(image_array, axis=0)\n",
    "image_array = preprocess_input(image_array)\n"
   ]
  },
  {
   "cell_type": "code",
   "execution_count": null,
   "metadata": {},
   "outputs": [],
   "source": [
    "# Make predictions\n",
    "predictions = model.predict(image_array)\n",
    "decoded_predictions = decode_predictions(predictions, top=1)[0]\n",
    "\n",
    "# Get the top predicted class and its probability\n",
    "predicted_class, class_description, confidence = decoded_predictions[0]\n",
    "\n",
    "# Define a threshold for confidence (you can adjust this)\n",
    "confidence_threshold = 0.5\n",
    "\n",
    "# Check if the predicted class corresponds to a crack\n",
    "if 'crack' in class_description.lower() and confidence >= confidence_threshold:\n",
    "    print(f\"The image contains a crack (Class: {predicted_class}, Confidence: {confidence:.2f})\")\n",
    "else:\n",
    "    print(f\"The image does not contain a crack (Class: {predicted_class}, Confidence: {confidence:.2f})\")"
   ]
  },
  {
   "cell_type": "code",
   "execution_count": null,
   "metadata": {},
   "outputs": [],
   "source": []
  },
  {
   "cell_type": "code",
   "execution_count": 14,
   "metadata": {},
   "outputs": [],
   "source": [
    "import tensorflow as tf\n",
    "import numpy as np\n",
    "import pathlib as pl\n",
    "from colorama import Fore, Style\n",
    "\n",
    "from tensorflow.keras.preprocessing.image import ImageDataGenerator\n",
    "from tensorflow.keras.applications.vgg16 import VGG16\n",
    "from tensorflow.keras.layers import Dense, Flatten, Dropout\n",
    "from tensorflow.keras.models import Model"
   ]
  },
  {
   "cell_type": "code",
   "execution_count": 6,
   "metadata": {},
   "outputs": [],
   "source": [
    "vgg = VGG16(input_shape=[224,224,3], weights='imagenet', include_top=False)"
   ]
  },
  {
   "cell_type": "code",
   "execution_count": 7,
   "metadata": {},
   "outputs": [],
   "source": [
    "for layer in vgg.layers:\n",
    "    layer.trainable = False"
   ]
  },
  {
   "cell_type": "code",
   "execution_count": 8,
   "metadata": {},
   "outputs": [],
   "source": [
    "x = Flatten()(vgg.output)\n",
    "x = Dense(256, activation='relu')(x)\n",
    "x = Dropout(0.5)(x)\n",
    "# Use 'sigmoid' activation for binary classification\n",
    "x = Dense(1, activation='sigmoid')(x)"
   ]
  },
  {
   "cell_type": "code",
   "execution_count": 9,
   "metadata": {},
   "outputs": [],
   "source": [
    "\n",
    "model = Model(inputs=vgg.input, outputs=x)\n",
    "#print(model.summary())"
   ]
  },
  {
   "cell_type": "code",
   "execution_count": 10,
   "metadata": {},
   "outputs": [],
   "source": [
    "model.compile(optimizer='adam', loss='binary_crossentropy', metrics=['accuracy'])"
   ]
  },
  {
   "cell_type": "code",
   "execution_count": 11,
   "metadata": {},
   "outputs": [
    {
     "name": "stdout",
     "output_type": "stream",
     "text": [
      "Data source: C:\\Users\\amani\\OneDrive\\Documents\\GitHub\\DT586_Project\\Code_Images\n",
      "C:\\Users\\amani\\OneDrive\\Documents\\GitHub\\DT586_Project\\Code_Images\\Mendelay_1\\64\n",
      "C:\\Users\\amani\\OneDrive\\Documents\\GitHub\\DT586_Project\\Code_Images\\Mendelay_FULL\n"
     ]
    }
   ],
   "source": [
    "import CNN\n",
    "train_dir = CNN.datasets[\"Mendelay_1\"]\n",
    "test_dir = CNN.datasets[\"Mendelay_1\"]\n",
    "test_private = CNN.datasets[\"Mendelay_FULL\"]\n",
    "print(train_dir)\n",
    "print(test_private)"
   ]
  },
  {
   "cell_type": "code",
   "execution_count": 12,
   "metadata": {},
   "outputs": [
    {
     "name": "stdout",
     "output_type": "stream",
     "text": [
      "Found 200 images belonging to 2 classes.\n"
     ]
    },
    {
     "name": "stdout",
     "output_type": "stream",
     "text": [
      "Found 200 images belonging to 2 classes.\n"
     ]
    }
   ],
   "source": [
    "train_datagen = ImageDataGenerator(rescale=1./255,\n",
    "                                   shear_range=0.2,\n",
    "                                   zoom_range=0.2,\n",
    "                                   horizontal_flip=True,\n",
    "                                   validation_split=0.2)\n",
    "\n",
    "train_generator = train_datagen.flow_from_directory(train_dir, target_size=(224,224),\n",
    "                                                    batch_size=32,\n",
    "                                                    class_mode='binary',) # Change class_mode to 'binary'\n",
    "\n",
    "validation_generator = train_datagen.flow_from_directory(train_dir, target_size=(224,224),\n",
    "                                                         batch_size=32,\n",
    "                                                         class_mode='binary',) # Change class_mode to 'binary'"
   ]
  },
  {
   "cell_type": "code",
   "execution_count": 13,
   "metadata": {},
   "outputs": [
    {
     "name": "stdout",
     "output_type": "stream",
     "text": [
      "Epoch 1/5\n",
      "7/7 [==============================] - 31s 4s/step - loss: 2.2213 - accuracy: 0.4750 - val_loss: 0.5427 - val_accuracy: 0.9500\n",
      "Epoch 2/5\n",
      "7/7 [==============================] - 26s 4s/step - loss: 0.5788 - accuracy: 0.7050 - val_loss: 0.3941 - val_accuracy: 0.9550\n",
      "Epoch 3/5\n",
      "7/7 [==============================] - 26s 4s/step - loss: 0.3916 - accuracy: 0.8050 - val_loss: 0.2796 - val_accuracy: 0.9700\n",
      "Epoch 4/5\n",
      "7/7 [==============================] - 25s 4s/step - loss: 0.2692 - accuracy: 0.8900 - val_loss: 0.1903 - val_accuracy: 0.9750\n",
      "Epoch 5/5\n",
      "7/7 [==============================] - 25s 4s/step - loss: 0.2276 - accuracy: 0.9450 - val_loss: 0.1466 - val_accuracy: 0.9800\n"
     ]
    }
   ],
   "source": [
    "predict = model.fit(\n",
    "    train_generator,\n",
    "    validation_data=validation_generator,\n",
    "    epochs=5,\n",
    "    steps_per_epoch=len(train_generator),\n",
    "    validation_steps=len(validation_generator)\n",
    ")"
   ]
  },
  {
   "cell_type": "code",
   "execution_count": null,
   "metadata": {},
   "outputs": [],
   "source": [
    "# prediction.shape"
   ]
  },
  {
   "cell_type": "code",
   "execution_count": 25,
   "metadata": {},
   "outputs": [
    {
     "name": "stdout",
     "output_type": "stream",
     "text": [
      "1/1 [==============================] - 0s 115ms/step\n",
      "[[0.99862075]]\n",
      "\u001b[32m00001.jpg is a crack 0.9986207485198975\n",
      "1/1 [==============================] - 0s 107ms/step\n",
      "[[1.]]\n",
      "\u001b[32m00002.jpg is a crack 1.0\n",
      "1/1 [==============================] - 0s 100ms/step\n",
      "[[0.00150528]]\n",
      "\u001b[31m00003.jpg is not a crack 0.0015052782837301493\n",
      "1/1 [==============================] - 0s 96ms/step\n",
      "[[0.9991604]]\n",
      "\u001b[32m00004.jpg is a crack 0.9991604089736938\n",
      "1/1 [==============================] - 0s 97ms/step\n",
      "[[0.9999313]]\n",
      "\u001b[32m00005.jpg is a crack 0.999931275844574\n",
      "1/1 [==============================] - 0s 102ms/step\n",
      "[[0.9765759]]\n",
      "\u001b[32m00006.jpg is a crack 0.9765759110450745\n",
      "1/1 [==============================] - 0s 105ms/step\n",
      "[[1.]]\n",
      "\u001b[32m00007.jpg is a crack 1.0\n",
      "1/1 [==============================] - 0s 112ms/step\n",
      "[[0.99782175]]\n",
      "\u001b[32m00008.jpg is a crack 0.9978217482566833\n",
      "1/1 [==============================] - 0s 106ms/step\n",
      "[[0.9999963]]\n",
      "\u001b[32m00009.jpg is a crack 0.9999963045120239\n",
      "1/1 [==============================] - 0s 104ms/step\n",
      "[[1.]]\n",
      "\u001b[32m00010.jpg is a crack 1.0\n",
      "1/1 [==============================] - 0s 118ms/step\n",
      "[[0.1120932]]\n",
      "\u001b[31m00011.jpg is not a crack 0.11209319531917572\n",
      "1/1 [==============================] - 0s 100ms/step\n",
      "[[0.99634236]]\n",
      "\u001b[32m00012.jpg is a crack 0.9963423609733582\n",
      "1/1 [==============================] - 0s 98ms/step\n",
      "[[0.99978536]]\n",
      "\u001b[32m00013.jpg is a crack 0.9997853636741638\n",
      "1/1 [==============================] - 0s 99ms/step\n",
      "[[0.9999828]]\n",
      "\u001b[32m00014.jpg is a crack 0.9999827742576599\n",
      "1/1 [==============================] - 0s 97ms/step\n",
      "[[0.29083672]]\n",
      "\u001b[31m00015.jpg is not a crack 0.29083672165870667\n",
      "1/1 [==============================] - 0s 96ms/step\n",
      "[[0.99999475]]\n",
      "\u001b[32m00016.jpg is a crack 0.9999947547912598\n",
      "1/1 [==============================] - 0s 101ms/step\n",
      "[[1.]]\n",
      "\u001b[32m00017.jpg is a crack 1.0\n",
      "1/1 [==============================] - 0s 98ms/step\n",
      "[[0.9999882]]\n",
      "\u001b[32m00018.jpg is a crack 0.9999881982803345\n",
      "1/1 [==============================] - 0s 105ms/step\n",
      "[[0.9488882]]\n",
      "\u001b[32m00019.jpg is a crack 0.9488881826400757\n",
      "1/1 [==============================] - 0s 140ms/step\n",
      "[[0.64388764]]\n",
      "\u001b[32m00020.jpg is a crack 0.6438876390457153\n",
      "1/1 [==============================] - 0s 111ms/step\n",
      "[[0.03121902]]\n",
      "\u001b[31m00021.jpg is not a crack 0.03121902421116829\n",
      "1/1 [==============================] - 0s 99ms/step\n",
      "[[0.01987237]]\n",
      "\u001b[31m00022.jpg is not a crack 0.019872372969985008\n",
      "1/1 [==============================] - 0s 97ms/step\n",
      "[[0.9999231]]\n",
      "\u001b[32m00023.jpg is a crack 0.9999231100082397\n",
      "1/1 [==============================] - 0s 97ms/step\n",
      "[[0.1933157]]\n",
      "\u001b[31m00024.jpg is not a crack 0.19331569969654083\n",
      "1/1 [==============================] - 0s 108ms/step\n",
      "[[0.9999998]]\n",
      "\u001b[32m00025.jpg is a crack 0.9999998211860657\n",
      "1/1 [==============================] - 0s 104ms/step\n",
      "[[1.]]\n",
      "\u001b[32m00026.jpg is a crack 1.0\n",
      "1/1 [==============================] - 0s 102ms/step\n",
      "[[0.8588209]]\n",
      "\u001b[32m00027.jpg is a crack 0.858820915222168\n",
      "1/1 [==============================] - 0s 107ms/step\n",
      "[[0.9999636]]\n",
      "\u001b[32m00028.jpg is a crack 0.9999635815620422\n",
      "1/1 [==============================] - 0s 108ms/step\n",
      "[[0.9999656]]\n",
      "\u001b[32m00029.jpg is a crack 0.9999656081199646\n",
      "1/1 [==============================] - 0s 99ms/step\n",
      "[[0.99994457]]\n",
      "\u001b[32m00030.jpg is a crack 0.9999445676803589\n",
      "1/1 [==============================] - 0s 101ms/step\n",
      "[[0.94329715]]\n",
      "\u001b[32m00031.jpg is a crack 0.9432971477508545\n",
      "1/1 [==============================] - 0s 100ms/step\n",
      "[[1.]]\n",
      "\u001b[32m00032.jpg is a crack 1.0\n",
      "1/1 [==============================] - 0s 101ms/step\n",
      "[[0.01682547]]\n",
      "\u001b[31m00033.jpg is not a crack 0.016825465485453606\n",
      "1/1 [==============================] - 0s 100ms/step\n",
      "[[0.8319785]]\n",
      "\u001b[32m00034.jpg is a crack 0.8319784998893738\n",
      "1/1 [==============================] - 0s 102ms/step\n",
      "[[0.32045487]]\n",
      "\u001b[31m00035.jpg is not a crack 0.320454865694046\n",
      "1/1 [==============================] - 0s 94ms/step\n",
      "[[0.99999756]]\n",
      "\u001b[32m00036.jpg is a crack 0.9999975562095642\n",
      "1/1 [==============================] - 0s 101ms/step\n",
      "[[0.00511273]]\n",
      "\u001b[31m00037.jpg is not a crack 0.005112729500979185\n",
      "1/1 [==============================] - 0s 96ms/step\n",
      "[[1.]]\n",
      "\u001b[32m00038.jpg is a crack 1.0\n",
      "1/1 [==============================] - 0s 100ms/step\n",
      "[[1.]]\n",
      "\u001b[32m00039.jpg is a crack 1.0\n",
      "1/1 [==============================] - 0s 98ms/step\n",
      "[[1.]]\n",
      "\u001b[32m00040.jpg is a crack 1.0\n",
      "1/1 [==============================] - 0s 93ms/step\n",
      "[[0.99871194]]\n",
      "\u001b[32m00041.jpg is a crack 0.9987119436264038\n",
      "1/1 [==============================] - 0s 99ms/step\n",
      "[[0.99999166]]\n",
      "\u001b[32m00042.jpg is a crack 0.9999916553497314\n",
      "1/1 [==============================] - 0s 100ms/step\n",
      "[[0.94360113]]\n",
      "\u001b[32m00043.jpg is a crack 0.943601131439209\n",
      "1/1 [==============================] - 0s 104ms/step\n",
      "[[0.5647493]]\n",
      "\u001b[32m00044.jpg is a crack 0.5647493004798889\n",
      "1/1 [==============================] - 0s 94ms/step\n",
      "[[0.03911641]]\n",
      "\u001b[31m00045.jpg is not a crack 0.03911641240119934\n",
      "1/1 [==============================] - 0s 97ms/step\n",
      "[[0.99999714]]\n",
      "\u001b[32m00046.jpg is a crack 0.9999971389770508\n",
      "1/1 [==============================] - 0s 101ms/step\n",
      "[[0.99999976]]\n",
      "\u001b[32m00047.jpg is a crack 0.9999997615814209\n",
      "1/1 [==============================] - 0s 91ms/step\n",
      "[[1.]]\n",
      "\u001b[32m00048.jpg is a crack 1.0\n",
      "1/1 [==============================] - 0s 100ms/step\n",
      "[[0.962738]]\n",
      "\u001b[32m00049.jpg is a crack 0.9627379775047302\n",
      "1/1 [==============================] - 0s 104ms/step\n",
      "[[0.9612803]]\n",
      "\u001b[32m00050.jpg is a crack 0.9612802863121033\n",
      "1/1 [==============================] - 0s 103ms/step\n",
      "[[1.]]\n",
      "\u001b[32m00051.jpg is a crack 1.0\n",
      "1/1 [==============================] - 0s 99ms/step\n",
      "[[0.99999994]]\n",
      "\u001b[32m00052.jpg is a crack 0.9999999403953552\n",
      "1/1 [==============================] - 0s 96ms/step\n",
      "[[1.]]\n",
      "\u001b[32m00053.jpg is a crack 1.0\n",
      "1/1 [==============================] - 0s 102ms/step\n",
      "[[0.583287]]\n",
      "\u001b[32m00054.jpg is a crack 0.5832870006561279\n",
      "1/1 [==============================] - 0s 97ms/step\n",
      "[[0.9918236]]\n",
      "\u001b[32m00055.jpg is a crack 0.9918236136436462\n",
      "1/1 [==============================] - 0s 101ms/step\n",
      "[[1.]]\n",
      "\u001b[32m00056.jpg is a crack 1.0\n",
      "1/1 [==============================] - 0s 95ms/step\n",
      "[[0.09673929]]\n",
      "\u001b[31m00057.jpg is not a crack 0.09673929214477539\n",
      "1/1 [==============================] - 0s 108ms/step\n",
      "[[0.08356227]]\n",
      "\u001b[31m00058.jpg is not a crack 0.08356226980686188\n",
      "1/1 [==============================] - 0s 94ms/step\n",
      "[[0.01347559]]\n",
      "\u001b[31m00059.jpg is not a crack 0.013475594110786915\n",
      "1/1 [==============================] - 0s 107ms/step\n",
      "[[0.9994935]]\n",
      "\u001b[32m00060.jpg is a crack 0.9994934797286987\n",
      "1/1 [==============================] - 0s 96ms/step\n",
      "[[0.9071004]]\n",
      "\u001b[32m00061.jpg is a crack 0.9071003794670105\n",
      "1/1 [==============================] - 0s 99ms/step\n",
      "[[0.9740024]]\n",
      "\u001b[32m00062.jpg is a crack 0.9740024209022522\n",
      "1/1 [==============================] - 0s 96ms/step\n",
      "[[1.]]\n",
      "\u001b[32m00063.jpg is a crack 1.0\n",
      "1/1 [==============================] - 0s 98ms/step\n",
      "[[0.00372948]]\n",
      "\u001b[31m00064.jpg is not a crack 0.003729480318725109\n",
      "1/1 [==============================] - 0s 109ms/step\n",
      "[[0.83282655]]\n",
      "\u001b[32m00065.jpg is a crack 0.832826554775238\n",
      "1/1 [==============================] - 0s 109ms/step\n",
      "[[0.05870113]]\n",
      "\u001b[31m00066.jpg is not a crack 0.058701131492853165\n",
      "1/1 [==============================] - 0s 99ms/step\n",
      "[[1.]]\n",
      "\u001b[32m00067.jpg is a crack 1.0\n",
      "1/1 [==============================] - 0s 95ms/step\n",
      "[[1.]]\n",
      "\u001b[32m00068.jpg is a crack 1.0\n",
      "1/1 [==============================] - 0s 102ms/step\n",
      "[[0.99169195]]\n",
      "\u001b[32m00069.jpg is a crack 0.9916919469833374\n",
      "1/1 [==============================] - 0s 97ms/step\n",
      "[[0.7930636]]\n",
      "\u001b[32m00070.jpg is a crack 0.7930635809898376\n",
      "1/1 [==============================] - 0s 90ms/step\n",
      "[[0.99183375]]\n",
      "\u001b[32m00071.jpg is a crack 0.9918337464332581\n",
      "1/1 [==============================] - 0s 99ms/step\n",
      "[[0.75987184]]\n",
      "\u001b[32m00072.jpg is a crack 0.7598718404769897\n",
      "1/1 [==============================] - 0s 100ms/step\n",
      "[[0.999996]]\n",
      "\u001b[32m00073.jpg is a crack 0.9999960064888\n",
      "1/1 [==============================] - 0s 100ms/step\n",
      "[[0.99999195]]\n",
      "\u001b[32m00074.jpg is a crack 0.9999919533729553\n",
      "1/1 [==============================] - 0s 100ms/step\n",
      "[[0.02034516]]\n",
      "\u001b[31m00075.jpg is not a crack 0.020345155149698257\n",
      "1/1 [==============================] - 0s 94ms/step\n",
      "[[1.]]\n",
      "\u001b[32m00076.jpg is a crack 1.0\n",
      "1/1 [==============================] - 0s 97ms/step\n",
      "[[1.]]\n",
      "\u001b[32m00077.jpg is a crack 1.0\n",
      "1/1 [==============================] - 0s 95ms/step\n",
      "[[0.15828884]]\n",
      "\u001b[31m00078.jpg is not a crack 0.158288836479187\n",
      "1/1 [==============================] - 0s 94ms/step\n",
      "[[0.9857645]]\n",
      "\u001b[32m00079.jpg is a crack 0.9857645034790039\n",
      "1/1 [==============================] - 0s 100ms/step\n",
      "[[0.99982935]]\n",
      "\u001b[32m00080.jpg is a crack 0.9998293519020081\n",
      "1/1 [==============================] - 0s 104ms/step\n",
      "[[0.16222677]]\n",
      "\u001b[31m00081.jpg is not a crack 0.16222676634788513\n",
      "1/1 [==============================] - 0s 92ms/step\n",
      "[[0.32057163]]\n",
      "\u001b[31m00082.jpg is not a crack 0.320571631193161\n",
      "1/1 [==============================] - 0s 99ms/step\n",
      "[[0.97521996]]\n",
      "\u001b[32m00083.jpg is a crack 0.9752199649810791\n",
      "1/1 [==============================] - 0s 108ms/step\n",
      "[[0.15363291]]\n",
      "\u001b[31m00084.jpg is not a crack 0.15363290905952454\n",
      "1/1 [==============================] - 0s 95ms/step\n",
      "[[0.9893391]]\n",
      "\u001b[32m00085.jpg is a crack 0.9893391132354736\n",
      "1/1 [==============================] - 0s 96ms/step\n",
      "[[0.01979507]]\n",
      "\u001b[31m00086.jpg is not a crack 0.019795065745711327\n",
      "1/1 [==============================] - 0s 97ms/step\n",
      "[[0.99998415]]\n",
      "\u001b[32m00087.jpg is a crack 0.9999841451644897\n",
      "1/1 [==============================] - 0s 103ms/step\n",
      "[[1.]]\n",
      "\u001b[32m00088.jpg is a crack 1.0\n",
      "1/1 [==============================] - 0s 101ms/step\n",
      "[[0.99757946]]\n",
      "\u001b[32m00089.jpg is a crack 0.9975794553756714\n",
      "1/1 [==============================] - 0s 88ms/step\n",
      "[[0.01452141]]\n",
      "\u001b[31m00090.jpg is not a crack 0.014521406963467598\n",
      "1/1 [==============================] - 0s 99ms/step\n",
      "[[0.02283499]]\n",
      "\u001b[31m00091.jpg is not a crack 0.02283499203622341\n",
      "1/1 [==============================] - 0s 95ms/step\n",
      "[[0.9999779]]\n",
      "\u001b[32m00092.jpg is a crack 0.9999778866767883\n",
      "1/1 [==============================] - 0s 97ms/step\n",
      "[[0.99993455]]\n",
      "\u001b[32m00093.jpg is a crack 0.9999345541000366\n",
      "1/1 [==============================] - 0s 99ms/step\n",
      "[[0.9844688]]\n",
      "\u001b[32m00094.jpg is a crack 0.9844688177108765\n",
      "1/1 [==============================] - 0s 96ms/step\n",
      "[[0.00169199]]\n",
      "\u001b[31m00095.jpg is not a crack 0.001691989367827773\n",
      "1/1 [==============================] - 0s 99ms/step\n",
      "[[0.7656256]]\n",
      "\u001b[32m00096.jpg is a crack 0.7656255960464478\n",
      "1/1 [==============================] - 0s 91ms/step\n",
      "[[0.00107427]]\n",
      "\u001b[31m00097.jpg is not a crack 0.001074273488484323\n",
      "1/1 [==============================] - 0s 93ms/step\n",
      "[[0.9654645]]\n",
      "\u001b[32m00098.jpg is a crack 0.9654644727706909\n",
      "1/1 [==============================] - 0s 96ms/step\n",
      "[[0.7359781]]\n",
      "\u001b[32m00099.jpg is a crack 0.7359781265258789\n",
      "1/1 [==============================] - 0s 94ms/step\n",
      "[[0.87514156]]\n",
      "\u001b[32m00100.jpg is a crack 0.8751415610313416\n"
     ]
    }
   ],
   "source": [
    "import pathlib as pl\n",
    "for file in pl.Path(test_dir,\"Negative\").iterdir():\n",
    "    img = tf.keras.preprocessing.image.load_img(file, target_size=(224,224))\n",
    "    img_array = tf.keras.preprocessing.image.img_to_array(img)\n",
    "    img_array = tf.expand_dims(img_array, 0)\n",
    "    predictions = model.predict(img_array)\n",
    "\n",
    "    predictions.shape\n",
    "    print(predictions)\n",
    "    prediction = predictions[0][0]\n",
    "\n",
    "    # Use 0.5 threshold for binary classification\n",
    "    if prediction > 0.5:\n",
    "        print(Fore.GREEN + f\"{file.name} is a crack {prediction}\")\n",
    "    else:\n",
    "        print(Fore.RED + f\"{file.name} is not a crack {prediction}\")"
   ]
  },
  {
   "cell_type": "code",
   "execution_count": null,
   "metadata": {},
   "outputs": [
    {
     "data": {
      "image/jpeg": "[encoded data removed]",
      "image/png": "[encoded data removed]",
      "text/plain": [
       "<PIL.JpegImagePlugin.JpegImageFile image mode=RGB size=275x183>"
      ]
     },
     "execution_count": 17,
     "metadata": {},
     "output_type": "execute_result"
    }
   ],
   "source": [
    "from PIL import Image\n",
    "image = Image.open('sunflower.jpg')\n",
    "image\n"
   ]
  },
  {
   "cell_type": "code",
   "execution_count": null,
   "metadata": {},
   "outputs": [
    {
     "name": "stdout",
     "output_type": "stream",
     "text": [
      "JPEG\n",
      "(275, 183)\n",
      "RGB\n"
     ]
    }
   ],
   "source": [
    "# summarize some details about the image\n",
    "print(image.format)\n",
    "print(image.size)\n",
    "print(image.mode)"
   ]
  },
  {
   "cell_type": "code",
   "execution_count": null,
   "metadata": {},
   "outputs": [
    {
     "data": {
      "text/plain": [
       "(224, 224, 3)"
      ]
     },
     "execution_count": 22,
     "metadata": {},
     "output_type": "execute_result"
    }
   ],
   "source": [
    "# asarray() class is used to convert\n",
    "# PIL images into NumPy arrays\n",
    "from numpy import asarray\n",
    "numpydata = asarray(img)\n",
    "numpydata.shape"
   ]
  },
  {
   "cell_type": "code",
   "execution_count": null,
   "metadata": {},
   "outputs": [
    {
     "data": {
      "text/plain": [
       "(224, 224, 3)"
      ]
     },
     "execution_count": 25,
     "metadata": {},
     "output_type": "execute_result"
    }
   ],
   "source": [
    "np_img = np.array(img)\n",
    "np_img.shape"
   ]
  }
 ],
 "metadata": {
  "kernelspec": {
   "display_name": "tensorflow3environment",
   "language": "python",
   "name": "python3"
  },
  "language_info": {
   "codemirror_mode": {
    "name": "ipython",
    "version": 3
   },
   "file_extension": ".py",
   "mimetype": "text/x-python",
   "name": "python",
   "nbconvert_exporter": "python",
   "pygments_lexer": "ipython3",
   "version": "3.9.18"
  }
 },
 "nbformat": 4,
 "nbformat_minor": 2
}
