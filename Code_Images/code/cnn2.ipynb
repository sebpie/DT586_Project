{
 "cells": [
  {
   "cell_type": "code",
   "execution_count": 1,
   "metadata": {},
   "outputs": [],
   "source": [
    "import tensorflow as tf\n",
    "from tensorflow.keras.applications.vgg16 import VGG16\n",
    "from tensorflow.keras.preprocessing.image import load_img, img_to_array\n",
    "from tensorflow.keras.applications.vgg16 import preprocess_input, decode_predictions\n",
    "import numpy as np\n"
   ]
  },
  {
   "cell_type": "code",
   "execution_count": 2,
   "metadata": {},
   "outputs": [],
   "source": [
    "# Load the pretrained VGG16 model\n",
    "model = VGG16(weights='imagenet')\n"
   ]
  },
  {
   "cell_type": "code",
   "execution_count": null,
   "metadata": {},
   "outputs": [],
   "source": [
    "# Load an example image (you can replace this with your own image)\n",
    "image_path = 'path/to/your/image.jpg'\n",
    "image = load_img(image_path, target_size=(224, 224))\n",
    "image_array = img_to_array(image)\n",
    "image_array = np.expand_dims(image_array, axis=0)\n",
    "image_array = preprocess_input(image_array)\n"
   ]
  },
  {
   "cell_type": "code",
   "execution_count": null,
   "metadata": {},
   "outputs": [],
   "source": [
    "# Make predictions\n",
    "predictions = model.predict(image_array)\n",
    "decoded_predictions = decode_predictions(predictions, top=1)[0]\n",
    "\n",
    "# Get the top predicted class and its probability\n",
    "predicted_class, class_description, confidence = decoded_predictions[0]\n",
    "\n",
    "# Define a threshold for confidence (you can adjust this)\n",
    "confidence_threshold = 0.5\n",
    "\n",
    "# Check if the predicted class corresponds to a crack\n",
    "if 'crack' in class_description.lower() and confidence >= confidence_threshold:\n",
    "    print(f\"The image contains a crack (Class: {predicted_class}, Confidence: {confidence:.2f})\")\n",
    "else:\n",
    "    print(f\"The image does not contain a crack (Class: {predicted_class}, Confidence: {confidence:.2f})\")"
   ]
  }
 ],
 "metadata": {
  "kernelspec": {
   "display_name": "tensorflow3environment",
   "language": "python",
   "name": "python3"
  },
  "language_info": {
   "codemirror_mode": {
    "name": "ipython",
    "version": 3
   },
   "file_extension": ".py",
   "mimetype": "text/x-python",
   "name": "python",
   "nbconvert_exporter": "python",
   "pygments_lexer": "ipython3",
   "version": "3.9.18"
  }
 },
 "nbformat": 4,
 "nbformat_minor": 2
}
